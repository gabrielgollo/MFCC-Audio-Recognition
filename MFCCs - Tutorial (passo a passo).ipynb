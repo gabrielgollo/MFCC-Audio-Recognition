{
 "cells": [
  {
   "cell_type": "markdown",
   "metadata": {
    "ExecuteTime": {
     "end_time": "2021-12-06T00:28:32.585143Z",
     "start_time": "2021-12-06T00:28:32.582142Z"
    }
   },
   "source": [
    "# Tutorial: Mel-Frequency Cepstral Coefficients (MFCCs)\n",
    "\n",
    "Neste notebook mostraremos um passo a passo da construção de MFCCs, com explicações fórmulas e gráficos.\n",
    "\n",
    "Caso não queira ver os códigos e funções utilizados clique\n",
    "[aqui](#Passo-a-passo-da-obtenção-de-MFCCs)\n",
    "para ir direto para a exibição das etapas."
   ]
  },
  {
   "cell_type": "markdown",
   "metadata": {},
   "source": [
    "## Participantes do projeto\n",
    "- Gabriel Santos Gollo do Amaral\n",
    "- Marcial Faria Vasconcelos\n"
   ]
  },
  {
   "cell_type": "markdown",
   "metadata": {},
   "source": [
    "## Instalação de Bibliotecas\n",
    "\n",
    "Descomente as linhas abaixo caso seja necessário instalar alguma das bibliotecas."
   ]
  },
  {
   "cell_type": "code",
   "execution_count": 1,
   "metadata": {
    "ExecuteTime": {
     "end_time": "2021-12-08T12:56:33.811083Z",
     "start_time": "2021-12-08T12:56:33.807084Z"
    }
   },
   "outputs": [],
   "source": [
    "# !pip install numpy\n",
    "# !pip install scipy\n",
    "# !pip install IPython\n",
    "# !pip install librosa"
   ]
  },
  {
   "cell_type": "markdown",
   "metadata": {},
   "source": [
    "## Importação de bibliotecas e leitura do sinal\n",
    "\n",
    "Foram utilizados recursos das seguintes bibliotecas:\n",
    "\n",
    "- [numpy](https://numpy.org/doc/stable/user/whatisnumpy.html)\n",
    "- [scipy](https://docs.scipy.org/doc/scipy/reference/)\n",
    "- [librosa](https://librosa.org/doc/latest/index.html)\n",
    "- [matplotlib](https://matplotlib.org/stable/api/index)\n",
    "- [ipywidgets](https://ipywidgets.readthedocs.io/en/latest/)\n",
    "- [IPython](https://ipython.org/documentation.html)\n",
    "\n",
    "O áudio utilizado para construção da MFCC neste notebook foi retirado do Open Speech Repository, que possui vários arquivos de voz gratuitos em diversos idiomas. Vece pode acessá-lo clicando [aqui](http://www.voiptroubleshooter.com/open_speech/index.html)."
   ]
  },
  {
   "cell_type": "code",
   "execution_count": 2,
   "metadata": {
    "ExecuteTime": {
     "end_time": "2021-12-08T12:56:36.299288Z",
     "start_time": "2021-12-08T12:56:33.814083Z"
    }
   },
   "outputs": [],
   "source": [
    "import numpy\n",
    "import numpy as np\n",
    "import scipy.signal, scipy.io.wavfile\n",
    "from   scipy.fftpack import dct\n",
    "import matplotlib.pyplot as plt, matplotlib.cm as cm, IPython.display as ipd\n",
    "import ipywidgets as widgets\n",
    "from   ipywidgets import interact, interactive, fixed, interact_manual\n",
    "import librosa, librosa.display\n",
    "\n",
    "sample_rate, signal = scipy.io.wavfile.read('./audio/OSR_us_000_0011_8k.wav')\n",
    "signal = signal[int(0.5 * sample_rate):int(3.5 * sample_rate)]  # Utilizar somente os primeiros segundos"
   ]
  },
  {
   "cell_type": "markdown",
   "metadata": {},
   "source": [
    "## Obtenção das MFCCs\n"
   ]
  },
  {
   "cell_type": "markdown",
   "metadata": {},
   "source": [
    "### Parâmetros\n",
    "\n",
    "As variáveis abaixo são utilizadas para configurar a forma como são calculados e exibidos os coeficientes. Recomendamos manter os valores pre-estabelesdos para uma melhor visualização. "
   ]
  },
  {
   "cell_type": "code",
   "execution_count": 3,
   "metadata": {
    "ExecuteTime": {
     "end_time": "2021-12-08T12:56:36.331291Z",
     "start_time": "2021-12-08T12:56:36.306290Z"
    }
   },
   "outputs": [],
   "source": [
    "pre_emphasis = 0.97\n",
    "frame_size = 0.025\n",
    "frame_stride = 0.01\n",
    "NFFT = 512\n",
    "nfilt = 40\n",
    "num_ceps = 12\n",
    "cep_lifter = 22"
   ]
  },
  {
   "cell_type": "markdown",
   "metadata": {},
   "source": [
    "### Cálculos\n",
    "Nesta célula são realizados todos os cálculos que darão origem aos dados apresentados na exibição ao fim deste notebook.\n",
    "\n",
    "#### Referência:\n",
    "O código na célula abaixo é uma adaptação de uma implementação feita em artigo por Haytham Fayek disponível no seguinte \n",
    "[link](https://haythamfayek.com/2016/04/21/speech-processing-for-machine-learning.html).\n",
    "\n",
    "Haytham M. Fayek. (2016). Speech Processing for Machine Learning: Filter banks, Mel-Frequency Cepstral Coefficients (MFCCs) and What's In-Between."
   ]
  },
  {
   "cell_type": "code",
   "execution_count": 4,
   "metadata": {
    "ExecuteTime": {
     "end_time": "2021-12-08T12:56:36.379294Z",
     "start_time": "2021-12-08T12:56:36.339292Z"
    }
   },
   "outputs": [],
   "source": [
    "#-----------------------------------------------------------------------------------------------------------------------------\n",
    "\n",
    "# Pre-Emphasis\n",
    "emphasized_signal = numpy.append(signal[0], signal[1:] - pre_emphasis * signal[:-1])\n",
    "\n",
    "#-----------------------------------------------------------------------------------------------------------------------------\n",
    "\n",
    "# Framing\n",
    "frame_length, frame_step = frame_size * sample_rate, frame_stride * sample_rate  # Convert from seconds to samples\n",
    "signal_length = len(emphasized_signal)\n",
    "frame_length = int(round(frame_length))\n",
    "frame_step = int(round(frame_step))\n",
    "num_frames = int(numpy.ceil(float(numpy.abs(signal_length - frame_length)) / frame_step))  # Make sure that we have at least 1 frame\n",
    "pad_signal_length = num_frames * frame_step + frame_length\n",
    "z = numpy.zeros((pad_signal_length - signal_length))\n",
    "pad_signal = numpy.append(emphasized_signal, z) # Pad Signal to make sure that all frames have equal number of samples without truncating any samples from the original signal\n",
    "indices = numpy.tile(numpy.arange(0, frame_length), (num_frames, 1)) + numpy.tile(numpy.arange(0, num_frames * frame_step, frame_step), (frame_length, 1)).T\n",
    "frames_ret = pad_signal[indices.astype(numpy.int32, copy=False)]\n",
    "\n",
    "#-----------------------------------------------------------------------------------------------------------------------------\n",
    "\n",
    "# Window\n",
    "frames = frames_ret * numpy.hamming(frame_length)\n",
    "# frames *= 0.54 - 0.46 * numpy.cos((2 * numpy.pi * n) / (frame_length - 1))  # Explicit Implementation **\n",
    "\n",
    "#-----------------------------------------------------------------------------------------------------------------------------\n",
    "\n",
    "# Fourier-Transform and Power Spectrum\n",
    "mag_frames = numpy.absolute(numpy.fft.rfft(frames, NFFT))  # Magnitude of the FFT\n",
    "pow_frames = ((1.0 / NFFT) * ((mag_frames) ** 2))  # Power Spectrum\n",
    "\n",
    "#-----------------------------------------------------------------------------------------------------------------------------\n",
    "\n",
    "# Filter Banks\n",
    "low_freq_mel = 0\n",
    "high_freq_mel = (2595 * numpy.log10(1 + (sample_rate / 2) / 700))  # Convert Hz to Mel\n",
    "mel_points = numpy.linspace(low_freq_mel, high_freq_mel, nfilt + 2)  # Equally spaced in Mel scale\n",
    "hz_points = (700 * (10**(mel_points / 2595) - 1))  # Convert Mel to Hz\n",
    "bin = numpy.floor((NFFT + 1) * hz_points / sample_rate)\n",
    "fbank = numpy.zeros((nfilt, int(numpy.floor(NFFT / 2 + 1))))\n",
    "for m in range(1, nfilt + 1):\n",
    "    f_m_minus = int(bin[m - 1])   # left\n",
    "    f_m = int(bin[m])             # center\n",
    "    f_m_plus = int(bin[m + 1])    # right\n",
    "\n",
    "    for k in range(f_m_minus, f_m):\n",
    "        fbank[m - 1, k] = (k - bin[m - 1]) / (bin[m] - bin[m - 1])\n",
    "    for k in range(f_m, f_m_plus):\n",
    "        fbank[m - 1, k] = (bin[m + 1] - k) / (bin[m + 1] - bin[m])\n",
    "filter_banks = numpy.dot(pow_frames, fbank.T)\n",
    "filter_banks = numpy.where(filter_banks == 0, numpy.finfo(float).eps, filter_banks)  # Numerical Stability\n",
    "filter_banks = 20 * numpy.log10(filter_banks)  # dB\n",
    "\n",
    "#-----------------------------------------------------------------------------------------------------------------------------\n",
    "\n",
    "# Mel-frequency Cepstral Coefficients (MFCCs)\n",
    "mfcc = dct(filter_banks, type=2, axis=1, norm='ortho')[:, 1 : (num_ceps + 1)] # Keep 2-13\n",
    "delta = librosa.feature.delta(mfcc)\n",
    "delta_delta = librosa.feature.delta(mfcc, order=2)\n",
    "(nframes, ncoeff) = mfcc.shape\n",
    "n = numpy.arange(ncoeff)\n",
    "lift = 1 + (cep_lifter / 2) * numpy.sin(numpy.pi * n / cep_lifter)\n",
    "mfcc *= lift  #*\n",
    "\n",
    "#-----------------------------------------------------------------------------------------------------------------------------\n",
    "\n",
    "# Mean Normalization\n",
    "filter_banks_norm = filter_banks - (numpy.mean(filter_banks, axis=0) + 1e-8)\n",
    "mfcc_norm = mfcc - (numpy.mean(mfcc, axis=0) + 1e-8)\n",
    "\n",
    "#-----------------------------------------------------------------------------------------------------------------------------"
   ]
  },
  {
   "cell_type": "markdown",
   "metadata": {},
   "source": [
    "\n",
    "---\n",
    "## Gráficos\n",
    "\n",
    "### Funções para a plotagem dos gráficos\n",
    "\n",
    "\n",
    "Nesta célula foram definidas várias funções para realizar a exibição das informações "
   ]
  },
  {
   "cell_type": "code",
   "execution_count": 5,
   "metadata": {
    "ExecuteTime": {
     "end_time": "2021-12-08T12:56:36.427298Z",
     "start_time": "2021-12-08T12:56:36.381295Z"
    }
   },
   "outputs": [],
   "source": [
    "def plotSound(audio, sr, title='Sinal no domínio do tempo'):\n",
    "    N = len(audio)\n",
    "    T = N/sr\n",
    "    t = np.linspace(0,T,N)\n",
    "    plt.figure(figsize=(12,2.5));\n",
    "    plt.plot(t,audio);\n",
    "    plt.title(title, fontsize=18)\n",
    "    plt.xlabel('tempo (s)', fontsize=15); plt.ylabel('Amplitude', fontsize=15);\n",
    "    plt.grid(which='both')\n",
    "    plt.show()\n",
    "    ipd.display(ipd.Audio(audio, rate=sr, autoplay=False))\n",
    "\n",
    "def PreEnfase(signal,emphasized_signal, sr):\n",
    "    text = open('./texts/pre-emphasis.md', mode='r', encoding='utf-8').read()\n",
    "\n",
    "    ipd.display_markdown(text, raw=True)\n",
    "    plotSound(signal, sr, title='Sinal original no domínio do tempo')\n",
    "    plotSound(emphasized_signal, sr, title='Sinal enfatizado no domínio do tempo')\n",
    "    \n",
    "def plotWindow(frame_length):\n",
    "    plt.figure(figsize=(7,5));\n",
    "    plt.plot(numpy.hamming(frame_length));\n",
    "    plt.title('Janela Hamming', fontsize=18)\n",
    "    plt.xlabel('amostras', fontsize=15); plt.ylabel('Amplitude', fontsize=15);\n",
    "    plt.grid(which='both', linestyle='dotted')\n",
    "    plt.show()\n",
    "    \n",
    "\n",
    "def plotWindowed(frames, frame_length):\n",
    "    text1 = open('./texts/windowed1.md', mode='r', encoding='utf-8').read()\n",
    "    ipd.display_markdown(text1, raw=True)\n",
    "    plotWindow(frame_length)\n",
    "\n",
    "    text2 = open('./texts/windowed2.md', mode='r', encoding='utf-8').read()\n",
    "    ipd.display_markdown(text2, raw=True)\n",
    "    #plotFrame(frames[int(nFrame.value)], title=f'Frame n° {nFrame.value} janelado')\n",
    "    interact(plotFrames, frames=fixed(frames), frameValue=(widgets.IntSlider(min=0, max=len(frames)-1, step=1, value=1, continuous_update=False, description='Frame n°:')));\n",
    "\n",
    "def plotFraming_step(frames):\n",
    "    text = open('./texts/framing.md', mode='r', encoding='utf-8').read()\n",
    "    ipd.display_markdown(text, raw=True)\n",
    "    interact(plotFrames, frames=fixed(frames), frameValue=(widgets.IntSlider(min=0, max=len(frames)-1, step=1, value=1, continuous_update=False, description='Frame n°:')));\n",
    "\n",
    "def plotFrames(frames, frameValue):\n",
    "    plotFrame(frames[frameValue], title=f'Frame n° {frameValue}')\n",
    "\n",
    "def plotFrame(frame, title='Fragmento do sinal'):\n",
    "    plt.figure(figsize=(7,5));\n",
    "    plt.plot(frame);\n",
    "    plt.title(title, fontsize=18)\n",
    "    plt.xlabel('amostras', fontsize=15); plt.ylabel('Amplitude', fontsize=15);\n",
    "    plt.grid(which='both', linestyle='dotted')\n",
    "    plt.show()\n",
    "\n",
    "def plotSpectogram(frames, option=None):\n",
    "    if(option == 'Transformada de Fourier'):\n",
    "        text = open('./texts/fourier-Transform.md', mode='r', encoding='utf-8').read()\n",
    "        ipd.display_markdown(text, raw=True)\n",
    "    elif(option == 'Espectro de Potência'):\n",
    "        text = open('./texts/power-spectrum.md', mode='r', encoding='utf-8').read()\n",
    "        ipd.display_markdown(text, raw=True)\n",
    "    plt.figure(figsize=(12, 2.5))\n",
    "    plt.imshow(np.flipud(frames.T), cmap=cm.jet, aspect=0.15, extent=[0,3,0,4]);\n",
    "    plt.title('Espectrograma do Sinal', fontsize=18);\n",
    "    plt.ylabel('Frequencia (kHz)', fontsize=15);\n",
    "    plt.xlabel('tempo (s)', fontsize=15);\n",
    "    plt.show();\n",
    "\n",
    "def plotFBank(fbank, sample_rate, low_freq):\n",
    "    plt.figure(figsize=(12,2.5))\n",
    "    plt.title('Banco de filtros MEL', fontsize=18)\n",
    "    plt.plot(np.linspace(low_freq, (sample_rate / 2), 257), fbank.T)\n",
    "    plt.xlabel('Frequências (Hz)',fontsize=15); plt.ylabel('Amplitude', fontsize=15);\n",
    "    plt.grid(which='both', linestyle='dotted')\n",
    "    plt.show()\n",
    "    plt.figure(figsize=(10, 3.5))\n",
    "    librosa.display.specshow(fbank, sr=sample_rate, x_axis='linear', y_axis='frames')\n",
    "    plt.colorbar()\n",
    "    plt.title('Espectrograma do banco de filtros')\n",
    "    plt.ylabel('N° do filtro')\n",
    "    plt.tight_layout()\n",
    "    plt.show()\n",
    "\n",
    "def plotMFCC(num_ceps, mfcc):\n",
    "    plt.figure(figsize=(12, 2.5))\n",
    "    plt.imshow(np.flipud(mfcc.T), interpolation='nearest', cmap=cm.jet, origin='lower', \n",
    "               aspect=0.065, extent=[0,3.5,1,num_ceps])\n",
    "    plt.title('MFCCs', fontsize=18)\n",
    "    plt.xlabel('tempo (s)', fontsize=15); plt.ylabel('Coeficientes', fontsize=15);\n",
    "    plt.show()\n",
    "    # plt.savefig('./images/mfcc.png', bbox_inches='tight', dpi=200)\n",
    "\n",
    "def Cepstrum(num_ceps, mfcc):\n",
    "    text = open('./texts/cepstrum.md', mode='r', encoding='utf-8').read()\n",
    "    ipd.display_markdown(text, raw=True)\n",
    "    plotMFCC(num_ceps, mfcc)\n",
    "    \n",
    "def meanNorm(num_ceps, mfcc_norm,filter_banks_norm):\n",
    "    text = open('./texts/normalization.md', mode='r', encoding='utf-8').read()\n",
    "    ipd.display_markdown(text, raw=True)\n",
    "    plt.figure(figsize=(12, 2.5))\n",
    "    plt.imshow(np.flipud(filter_banks_norm.T), cmap=cm.jet, aspect=0.00015, extent=[0,3,0,4000]);\n",
    "    plt.title('Espectrograma Normalizado', fontsize=18);\n",
    "    plt.ylabel('Frequencia (Mel)', fontsize=15);\n",
    "    plt.xlabel('tempo (s)', fontsize=15);\n",
    "    plt.show();\n",
    "    plt.figure(figsize=(12, 2.5))\n",
    "    plt.imshow(np.flipud(mfcc_norm.T), interpolation='nearest', cmap=cm.jet, origin='lower', \n",
    "               aspect=0.065, extent=[0,3.5,1,num_ceps])\n",
    "    plt.title(\"MFCCs Normalizados\", fontsize=18)\n",
    "    plt.xlabel('tempo (s)', fontsize=15); plt.ylabel('Coeficientes', fontsize=15);\n",
    "    plt.show()\n",
    "    \n",
    "def plotMFCC_librosa(num_ceps,mfcc):\n",
    "    plt.figure(figsize=(15, 5))\n",
    "    librosa.display.specshow(np.flipud(mfcc), x_axis='time', y_axis='frames')\n",
    "    plt.colorbar()\n",
    "    plt.title('MFCC')\n",
    "    plt.tight_layout()\n",
    "    plt.show()\n",
    "    \n",
    "def plotMEL(fbank, sample_rate, low_freq_mel, filter_banks):\n",
    "    text = open('./texts/filter-Banks1.md', mode='r', encoding='utf-8').read()\n",
    "    ipd.display_markdown(text, raw=True)\n",
    "    plotFBank(fbank, sample_rate, low_freq_mel)\n",
    "    text2 = open('./texts/filter-Banks2.md', mode='r', encoding='utf-8').read()\n",
    "    ipd.display_markdown(text2, raw=True)\n",
    "    plt.figure(figsize=(12, 2.5))\n",
    "    plt.imshow(np.flipud(filter_banks.T), cmap=cm.jet, aspect=0.0002, extent=[0,3.5,0,4000]);\n",
    "    plt.title('Espectrograma do Sinal', fontsize=18);\n",
    "    plt.ylabel('Frequência (Hz)', fontsize=15);\n",
    "    plt.xlabel('tempo (s)', fontsize=15);\n",
    "    plt.show();\n",
    "\n",
    "def choosePlot(option=None):\n",
    "    if option==None: print(\"Escolha uma etapa para visualisar.\") \n",
    "    if option=='Pré-Enfase':             PreEnfase(signal,emphasized_signal, sample_rate)\n",
    "    if option=='Fragmentação':           plotFraming_step(frames_ret)\n",
    "    if option=='Janelamento':            plotWindowed(frames, frame_length)\n",
    "    if option=='Transformada de Fourier':plotSpectogram(mag_frames, 'Transformada de Fourier')\n",
    "    if option=='Espectro de Potência':   plotSpectogram(pow_frames, 'Espectro de Potência')\n",
    "    if option=='Banco de filtros MEL':   plotMEL(fbank, sample_rate, low_freq_mel, filter_banks)\n",
    "    if option=='Cepstrum':               Cepstrum(num_ceps,mfcc)\n",
    "    if option=='Normalização de Média':  meanNorm(num_ceps, mfcc_norm, filter_banks_norm)"
   ]
  },
  {
   "cell_type": "markdown",
   "metadata": {},
   "source": [
    "# Passo a passo da obtenção de MFCCs\n",
    "\n",
    "Selecione na caixa de diálogo abaixo a etapa do procedimento que deseja exibir:"
   ]
  },
  {
   "cell_type": "code",
   "execution_count": 6,
   "metadata": {
    "ExecuteTime": {
     "end_time": "2021-12-08T12:56:36.459301Z",
     "start_time": "2021-12-08T12:56:36.428299Z"
    }
   },
   "outputs": [
    {
     "data": {
      "application/vnd.jupyter.widget-view+json": {
       "model_id": "812b6f403f5143b6a66fa87a4b2f18ed",
       "version_major": 2,
       "version_minor": 0
      },
      "text/plain": [
       "interactive(children=(Dropdown(description='Etapa:', options=('Pré-Enfase', 'Fragmentação', 'Janelamento', 'Tr…"
      ]
     },
     "metadata": {},
     "output_type": "display_data"
    }
   ],
   "source": [
    "Lista = ['Pré-Enfase','Fragmentação','Janelamento','Transformada de Fourier','Espectro de Potência','Banco de filtros MEL','Cepstrum','Normalização de Média']\n",
    "\n",
    "interact(choosePlot, option=widgets.Dropdown(options = Lista, \n",
    "                                             description='Etapa:', value=None,\n",
    "                                             disabled=False), continuous_update=False);"
   ]
  }
 ],
 "metadata": {
  "interpreter": {
   "hash": "d409983f81fa3db85743123dbc03164e0839ada0415b4c5f4cafe4a2ab9a966c"
  },
  "kernelspec": {
   "display_name": "Python 3",
   "language": "python",
   "name": "python3"
  },
  "language_info": {
   "codemirror_mode": {
    "name": "ipython",
    "version": 3
   },
   "file_extension": ".py",
   "mimetype": "text/x-python",
   "name": "python",
   "nbconvert_exporter": "python",
   "pygments_lexer": "ipython3",
   "version": "3.8.8"
  },
  "varInspector": {
   "cols": {
    "lenName": 16,
    "lenType": 16,
    "lenVar": 40
   },
   "kernels_config": {
    "python": {
     "delete_cmd_postfix": "",
     "delete_cmd_prefix": "del ",
     "library": "var_list.py",
     "varRefreshCmd": "print(var_dic_list())"
    },
    "r": {
     "delete_cmd_postfix": ") ",
     "delete_cmd_prefix": "rm(",
     "library": "var_list.r",
     "varRefreshCmd": "cat(var_dic_list()) "
    }
   },
   "types_to_exclude": [
    "module",
    "function",
    "builtin_function_or_method",
    "instance",
    "_Feature"
   ],
   "window_display": false
  }
 },
 "nbformat": 4,
 "nbformat_minor": 2
}

{
 "cells": [
  {
   "cell_type": "code",
   "execution_count": 1,
   "metadata": {
    "ExecuteTime": {
     "end_time": "2021-12-04T14:16:48.509030Z",
     "start_time": "2021-12-04T14:16:48.493030Z"
    }
   },
   "outputs": [],
   "source": [
    "# @misc{fayek2016,\n",
    "#   title   = \"Speech Processing for Machine Learning: Filter banks, Mel-Frequency Cepstral Coefficients (MFCCs) and What's In-Between\",\n",
    "#   author  = \"Haytham M. Fayek\",\n",
    "#   year    = \"2016\",\n",
    "#   url     = \"https://haythamfayek.com/2016/04/21/speech-processing-for-machine-learning.html\"\n",
    "# }"
   ]
  },
  {
   "cell_type": "markdown",
   "metadata": {},
   "source": [
    "Setup"
   ]
  },
  {
   "cell_type": "code",
   "execution_count": 2,
   "metadata": {
    "ExecuteTime": {
     "end_time": "2021-12-04T14:16:48.861058Z",
     "start_time": "2021-12-04T14:16:48.511030Z"
    }
   },
   "outputs": [],
   "source": [
    "import numpy\n",
    "import scipy.io.wavfile\n",
    "from scipy.fftpack import dct\n",
    "\n",
    "sample_rate, signal = scipy.io.wavfile.read('./audio/OSR_us_000_0010_8k.wav')  # File assumed to be in the same directory\n",
    "signal = signal[0:int(3.5 * sample_rate)]  # Keep the first 3.5 seconds"
   ]
  },
  {
   "cell_type": "markdown",
   "metadata": {},
   "source": [
    "Parameters"
   ]
  },
  {
   "cell_type": "code",
   "execution_count": 3,
   "metadata": {
    "ExecuteTime": {
     "end_time": "2021-12-04T14:16:48.877061Z",
     "start_time": "2021-12-04T14:16:48.863059Z"
    }
   },
   "outputs": [],
   "source": [
    "pre_emphasis = 0.97\n",
    "frame_size = 0.025\n",
    "frame_stride = 0.01\n",
    "NFFT = 512\n",
    "nfilt = 40\n",
    "num_ceps = 12\n",
    "cep_lifter = 22"
   ]
  },
  {
   "cell_type": "markdown",
   "metadata": {},
   "source": [
    "Pre-Emphasis"
   ]
  },
  {
   "cell_type": "code",
   "execution_count": 4,
   "metadata": {
    "ExecuteTime": {
     "end_time": "2021-12-04T14:16:48.893062Z",
     "start_time": "2021-12-04T14:16:48.879060Z"
    }
   },
   "outputs": [],
   "source": [
    "emphasized_signal = numpy.append(signal[0], signal[1:] - pre_emphasis * signal[:-1])"
   ]
  },
  {
   "cell_type": "markdown",
   "metadata": {},
   "source": [
    "Framing"
   ]
  },
  {
   "cell_type": "code",
   "execution_count": 5,
   "metadata": {
    "ExecuteTime": {
     "end_time": "2021-12-04T14:16:48.909063Z",
     "start_time": "2021-12-04T14:16:48.895062Z"
    }
   },
   "outputs": [],
   "source": [
    "frame_length, frame_step = frame_size * sample_rate, frame_stride * sample_rate  # Convert from seconds to samples\n",
    "signal_length = len(emphasized_signal)\n",
    "frame_length = int(round(frame_length))\n",
    "frame_step = int(round(frame_step))\n",
    "num_frames = int(numpy.ceil(float(numpy.abs(signal_length - frame_length)) / frame_step))  # Make sure that we have at least 1 frame\n",
    "\n",
    "pad_signal_length = num_frames * frame_step + frame_length\n",
    "z = numpy.zeros((pad_signal_length - signal_length))\n",
    "pad_signal = numpy.append(emphasized_signal, z) # Pad Signal to make sure that all frames have equal number of samples without truncating any samples from the original signal\n",
    "\n",
    "indices = numpy.tile(numpy.arange(0, frame_length), (num_frames, 1)) + numpy.tile(numpy.arange(0, num_frames * frame_step, frame_step), (frame_length, 1)).T\n",
    "frames_ret = pad_signal[indices.astype(numpy.int32, copy=False)]"
   ]
  },
  {
   "cell_type": "markdown",
   "metadata": {},
   "source": [
    "Window"
   ]
  },
  {
   "cell_type": "code",
   "execution_count": 6,
   "metadata": {
    "ExecuteTime": {
     "end_time": "2021-12-04T14:16:48.925064Z",
     "start_time": "2021-12-04T14:16:48.911063Z"
    }
   },
   "outputs": [],
   "source": [
    "frames = frames_ret * numpy.hamming(frame_length)\n",
    "# frames *= 0.54 - 0.46 * numpy.cos((2 * numpy.pi * n) / (frame_length - 1))  # Explicit Implementation **"
   ]
  },
  {
   "cell_type": "markdown",
   "metadata": {},
   "source": [
    "Fourier-Transform and Power Spectrum"
   ]
  },
  {
   "cell_type": "code",
   "execution_count": 7,
   "metadata": {
    "ExecuteTime": {
     "end_time": "2021-12-04T14:16:48.941064Z",
     "start_time": "2021-12-04T14:16:48.927065Z"
    }
   },
   "outputs": [],
   "source": [
    "mag_frames = numpy.absolute(numpy.fft.rfft(frames, NFFT))  # Magnitude of the FFT\n",
    "pow_frames = ((1.0 / NFFT) * ((mag_frames) ** 2))  # Power Spectrum"
   ]
  },
  {
   "cell_type": "markdown",
   "metadata": {},
   "source": [
    "Filter Banks"
   ]
  },
  {
   "cell_type": "code",
   "execution_count": 8,
   "metadata": {
    "ExecuteTime": {
     "end_time": "2021-12-04T14:16:48.972066Z",
     "start_time": "2021-12-04T14:16:48.943066Z"
    }
   },
   "outputs": [],
   "source": [
    "low_freq_mel = 0\n",
    "high_freq_mel = (2595 * numpy.log10(1 + (sample_rate / 2) / 700))  # Convert Hz to Mel\n",
    "mel_points = numpy.linspace(low_freq_mel, high_freq_mel, nfilt + 2)  # Equally spaced in Mel scale\n",
    "hz_points = (700 * (10**(mel_points / 2595) - 1))  # Convert Mel to Hz\n",
    "bin = numpy.floor((NFFT + 1) * hz_points / sample_rate)\n",
    "\n",
    "fbank = numpy.zeros((nfilt, int(numpy.floor(NFFT / 2 + 1))))\n",
    "for m in range(1, nfilt + 1):\n",
    "    f_m_minus = int(bin[m - 1])   # left\n",
    "    f_m = int(bin[m])             # center\n",
    "    f_m_plus = int(bin[m + 1])    # right\n",
    "\n",
    "    for k in range(f_m_minus, f_m):\n",
    "        fbank[m - 1, k] = (k - bin[m - 1]) / (bin[m] - bin[m - 1])\n",
    "    for k in range(f_m, f_m_plus):\n",
    "        fbank[m - 1, k] = (bin[m + 1] - k) / (bin[m + 1] - bin[m])\n",
    "filter_banks = numpy.dot(pow_frames, fbank.T)\n",
    "filter_banks = numpy.where(filter_banks == 0, numpy.finfo(float).eps, filter_banks)  # Numerical Stability\n",
    "filter_banks = 20 * numpy.log10(filter_banks)  # dB"
   ]
  },
  {
   "cell_type": "markdown",
   "metadata": {},
   "source": [
    "Mel-frequency Cepstral Coefficients (MFCCs)"
   ]
  },
  {
   "cell_type": "code",
   "execution_count": 9,
   "metadata": {
    "ExecuteTime": {
     "end_time": "2021-12-04T14:16:48.987067Z",
     "start_time": "2021-12-04T14:16:48.975067Z"
    }
   },
   "outputs": [],
   "source": [
    "mfcc = dct(filter_banks, type=2, axis=1, norm='ortho')[:, 1 : (num_ceps + 1)] # Keep 2-13"
   ]
  },
  {
   "cell_type": "code",
   "execution_count": 10,
   "metadata": {
    "ExecuteTime": {
     "end_time": "2021-12-04T14:16:49.003069Z",
     "start_time": "2021-12-04T14:16:48.989070Z"
    }
   },
   "outputs": [],
   "source": [
    "(nframes, ncoeff) = mfcc.shape\n",
    "n = numpy.arange(ncoeff)\n",
    "lift = 1 + (cep_lifter / 2) * numpy.sin(numpy.pi * n / cep_lifter)\n",
    "mfcc *= lift  #*"
   ]
  },
  {
   "cell_type": "markdown",
   "metadata": {},
   "source": [
    "Mean Normalization"
   ]
  },
  {
   "cell_type": "code",
   "execution_count": 11,
   "metadata": {
    "ExecuteTime": {
     "end_time": "2021-12-04T14:16:49.019070Z",
     "start_time": "2021-12-04T14:16:49.004070Z"
    }
   },
   "outputs": [],
   "source": [
    "filter_banks -= (numpy.mean(filter_banks, axis=0) + 1e-8)"
   ]
  },
  {
   "cell_type": "code",
   "execution_count": 12,
   "metadata": {
    "ExecuteTime": {
     "end_time": "2021-12-04T14:16:49.035071Z",
     "start_time": "2021-12-04T14:16:49.020071Z"
    }
   },
   "outputs": [],
   "source": [
    "mfcc -= (numpy.mean(mfcc, axis=0) + 1e-8)"
   ]
  },
  {
   "cell_type": "markdown",
   "metadata": {},
   "source": [
    "\n",
    "---\n",
    "# Gráficos\n"
   ]
  },
  {
   "cell_type": "code",
   "execution_count": 13,
   "metadata": {
    "ExecuteTime": {
     "end_time": "2021-12-04T14:16:49.787132Z",
     "start_time": "2021-12-04T14:16:49.036072Z"
    }
   },
   "outputs": [],
   "source": [
    "import matplotlib.pyplot as plt, IPython.display as ipd\n",
    "import matplotlib.cm as cm\n",
    "import numpy as np\n",
    "import scipy.signal\n",
    "import librosa.display"
   ]
  },
  {
   "cell_type": "markdown",
   "metadata": {},
   "source": [
    "### Funções para a plotagem dos gráficos"
   ]
  },
  {
   "cell_type": "code",
   "execution_count": 14,
   "metadata": {},
   "outputs": [],
   "source": [
    "def plotSound(audio, sr, title='Sinal no domínio do tempo'):\n",
    "    N = len(audio)\n",
    "    T = N/sr\n",
    "    t = np.linspace(0,T,N)\n",
    "    plt.figure(figsize=(12,2.5));\n",
    "    plt.plot(t,audio);\n",
    "    plt.title(title, fontsize=18)\n",
    "    plt.xlabel('tempo (s)', fontsize=15); plt.ylabel('Amplitude', fontsize=15);\n",
    "    plt.grid(which='both')\n",
    "    plt.show()\n",
    "    ipd.display(ipd.Audio(audio, rate=sr, autoplay=False))\n",
    "\n",
    "def PreEnfase(signal,emphasized_signal, sr):\n",
    "    plotSound(signal, sr, title='Sinal original no domínio do tempo')\n",
    "    plotSound(emphasized_signal, sr, title='Sinal enfatizado no domínio do tempo')\n",
    "\n",
    "def plotWindow(frame_length):\n",
    "    plt.figure(figsize=(7,5));\n",
    "    plt.plot(numpy.hamming(frame_length));\n",
    "    plt.title('Janela Hamming', fontsize=18)\n",
    "    plt.xlabel('amostras', fontsize=15); plt.ylabel('Amplitude', fontsize=15);\n",
    "    plt.grid(which='both', linestyle='dotted')\n",
    "    plt.show()\n",
    "    \n",
    "def plotFrame(frame, title='Fragmento do sinal'):\n",
    "    plt.figure(figsize=(7,5));\n",
    "    plt.plot(frame);\n",
    "    plt.title(title, fontsize=18)\n",
    "    plt.xlabel('amostras', fontsize=15); plt.ylabel('Amplitude', fontsize=15);\n",
    "    plt.grid(which='both', linestyle='dotted')\n",
    "    plt.show()\n",
    "\n",
    "def plotWindoned(frames, frame_length):\n",
    "    plotWindow(frame_length)\n",
    "    nFrame=widgets.IntText(value=100, description='N° do frame:', disabled=False)\n",
    "    plotFrame(frames[int(nFrame.value)], title=f'Frame n° {nFrame.value} janelado')\n",
    "\n",
    "def plotFrames(frames):\n",
    "    nFrame=widgets.IntText(value=100, description='N° do frame:', disabled=False)\n",
    "    plotFrame(frames[int(nFrame.value)], title=f'Frame n° {nFrame.value} janelado')\n",
    "    \n",
    "def plotSpectogram(frames):\n",
    "    # Não é meu o código\n",
    "    plt.figure(figsize=(12, 2.5))\n",
    "    plt.imshow(np.flipud(frames.T), cmap=cm.jet, aspect=0.2, extent=[0,4,0,4])\n",
    "    plt.title('Spectrogram of the Signal')\n",
    "    plt.ylabel('Frequency (kHz)', fontsize=16)\n",
    "    plt.xlabel('Time (s)', fontsize=16)\n",
    "    # plt.savefig('filter_banks_raw2.png', bbox_inches='tight', dpi=200)\n",
    "    plt.show()\n",
    "\n",
    "\n",
    "def plotFBank(fbank, sample_rate, low_freq):\n",
    "    plt.figure(figsize=(12,2.5))\n",
    "    plt.title('Banco de filtros MEL', fontsize=18)\n",
    "    plt.plot(np.linspace(low_freq, (sample_rate / 2), 257), fbank.T)\n",
    "    plt.xlabel('Frequências',fontsize=15); plt.ylabel('Amplitude', fontsize=15);\n",
    "    plt.grid(which='both', linestyle='dotted')\n",
    "    plt.show()\n",
    "    # plt.savefig('mel_filters2.png', bbox_inches='tight', dpi=200)\n",
    "\n",
    "def plotMFCC(num_ceps, mfcc):\n",
    "    plt.figure(figsize=(12, 2.5))\n",
    "    plt.imshow(np.flipud(mfcc.T), cmap=cm.jet, aspect=0.08, extent=[0,4,1,num_ceps])\n",
    "    plt.title('MFCCs', fontsize=18)\n",
    "    plt.xlabel('tempo (s)', fontsize=15); plt.ylabel('Coeficientes', fontsize=15);\n",
    "    plt.show()\n",
    "    # plt.savefig('mfcc_raw2.png', bbox_inches='tight', dpi=200)\n",
    "\n",
    "def plotMFCC_librosa(mfcc):\n",
    "    plt.figure(figsize=(15, 5))\n",
    "    librosa.display.specshow(mfcc, x_axis='time', y_axis='frames')\n",
    "    plt.colorbar()\n",
    "    plt.title('MFCC')\n",
    "    plt.tight_layout()\n",
    "    plt.show()\n",
    "\n",
    "def choosePlot(option=None):\n",
    "    if option==None: print(\"Escolha uma etapa para visualisar.\") \n",
    "    if option=='Pré-Enfase': PreEnfase(signal,emphasized_signal, sample_rate)\n",
    "    if option=='Fragmentação': plotFrames(frames_ret)\n",
    "    if option=='Janelamento': plotWindoned(frames, frame_length)\n",
    "    if option=='FFT': plotSpectogram(mag_frames)\n",
    "    if option=='Espectro de Potência':None\n",
    "    if option=='Banco de filtros MEL': plotFBank(fbank, sample_rate, low_freq_mel)\n",
    "    if option=='MFCC': plotMFCC(num_ceps, mfcc)\n",
    "    if option=='Delta MFCC':None\n",
    "    if option=='Delta Delta MFCC':None\n",
    "    if option=='MFCC normalizada':None"
   ]
  },
  {
   "cell_type": "code",
   "execution_count": 15,
   "metadata": {
    "ExecuteTime": {
     "end_time": "2021-12-04T14:36:55.412466Z",
     "start_time": "2021-12-04T14:36:47.269099Z"
    }
   },
   "outputs": [],
   "source": [
    "# import ctypes  # An included library with Python install.\n",
    "# def Mbox(title, text, style):\n",
    "#     return ctypes.windll.user32.MessageBoxW(0, text, title, style)\n",
    "# Mbox('Banco de Filtros MEL', 'Filtros utilizados parar descatacar as variações nas baixas frequências.\\n\\nO ouvido humano tem uma percepção muito mais apurada das baixas frequências', 0)"
   ]
  },
  {
   "cell_type": "code",
   "execution_count": 16,
   "metadata": {},
   "outputs": [
    {
     "data": {
      "application/vnd.jupyter.widget-view+json": {
       "model_id": "1a4d3e4a4d51439cbf44fe22e0d9b12b",
       "version_major": 2,
       "version_minor": 0
      },
      "text/plain": [
       "interactive(children=(Dropdown(description='Etapa:', options=('Pré-Enfase', 'Fragmentação', 'Janelamento', 'FF…"
      ]
     },
     "metadata": {},
     "output_type": "display_data"
    }
   ],
   "source": [
    "import ipywidgets as widgets\n",
    "from ipywidgets import interact, interactive, fixed, interact_manual\n",
    "\n",
    "Lista = ['Pré-Enfase','Fragmentação','Janelamento','FFT','Espectro de Potência','Banco de filtros MEL','MFCC','Delta MFCC','Delta Delta MFCC','MFCC normalizada']\n",
    "\n",
    "interact(choosePlot, option=widgets.Dropdown(options = Lista, \n",
    "                                             description='Etapa:', #value=None,\n",
    "                                             disabled=False), continuous_update=False);"
   ]
  }
 ],
 "metadata": {
  "interpreter": {
   "hash": "d409983f81fa3db85743123dbc03164e0839ada0415b4c5f4cafe4a2ab9a966c"
  },
  "kernelspec": {
   "display_name": "Python 3",
   "language": "python",
   "name": "python3"
  },
  "language_info": {
   "codemirror_mode": {
    "name": "ipython",
    "version": 3
   },
   "file_extension": ".py",
   "mimetype": "text/x-python",
   "name": "python",
   "nbconvert_exporter": "python",
   "pygments_lexer": "ipython3",
   "version": "3.8.8"
  },
  "varInspector": {
   "cols": {
    "lenName": 16,
    "lenType": 16,
    "lenVar": 40
   },
   "kernels_config": {
    "python": {
     "delete_cmd_postfix": "",
     "delete_cmd_prefix": "del ",
     "library": "var_list.py",
     "varRefreshCmd": "print(var_dic_list())"
    },
    "r": {
     "delete_cmd_postfix": ") ",
     "delete_cmd_prefix": "rm(",
     "library": "var_list.r",
     "varRefreshCmd": "cat(var_dic_list()) "
    }
   },
   "types_to_exclude": [
    "module",
    "function",
    "builtin_function_or_method",
    "instance",
    "_Feature"
   ],
   "window_display": false
  }
 },
 "nbformat": 4,
 "nbformat_minor": 2
}

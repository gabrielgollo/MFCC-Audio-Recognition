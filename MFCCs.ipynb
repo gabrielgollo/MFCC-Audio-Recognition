{
 "cells": [
  {
   "cell_type": "markdown",
   "metadata": {},
   "source": [
    "# MFCC - Pré-Processamento de Sinais de Áudio"
   ]
  },
  {
   "cell_type": "markdown",
   "metadata": {},
   "source": [
    "## Install\n",
    "\n",
    "Descomente as linhas abaixo caso seja necessário instalar alguma das bibliotecas."
   ]
  },
  {
   "cell_type": "code",
   "execution_count": 1,
   "metadata": {
    "ExecuteTime": {
     "end_time": "2021-12-03T18:42:48.136413Z",
     "start_time": "2021-12-03T18:42:48.119413Z"
    }
   },
   "outputs": [],
   "source": [
    "# !pip install numpy\n",
    "# !pip install control\n",
    "# !pip install scipy\n",
    "# !pip install IPython\n",
    "# !pip install librosa"
   ]
  },
  {
   "cell_type": "markdown",
   "metadata": {},
   "source": [
    "## Alguns Imports"
   ]
  },
  {
   "cell_type": "code",
   "execution_count": 2,
   "metadata": {
    "ExecuteTime": {
     "end_time": "2021-12-03T18:42:50.661618Z",
     "start_time": "2021-12-03T18:42:48.138416Z"
    }
   },
   "outputs": [],
   "source": [
    "import numpy as np, scipy as sp\n",
    "import matplotlib.pyplot as plt, IPython.display as ipd\n",
    "import librosa, librosa.display\n",
    "import ipywidgets as widgets\n",
    "import os\n",
    "# from scipy import signal\n",
    "# from scipy.fft import fft\n",
    "# from sklearn.preprocessing import MinMaxScaler\n",
    "from ipywidgets import interact, interactive, fixed, interact_manual\n",
    "\n",
    "# %matplotlib widget\n",
    "%matplotlib inline"
   ]
  },
  {
   "cell_type": "markdown",
   "metadata": {},
   "source": [
    "## Algumas Funções"
   ]
  },
  {
   "cell_type": "code",
   "execution_count": 3,
   "metadata": {
    "ExecuteTime": {
     "end_time": "2021-12-03T18:42:50.741625Z",
     "start_time": "2021-12-03T18:42:50.663618Z"
    }
   },
   "outputs": [],
   "source": [
    "FIGURE_X = 15\n",
    "FIGURE_Y = 10\n",
    "N_MFCC   = 13\n",
    "\n",
    "def makeMFCC(x, sr):\n",
    "    return librosa.feature.mfcc(x, n_mfcc=N_MFCC, sr=sr)\n",
    "\n",
    "def plotMFCC(mfcc):\n",
    "    plt.figure(figsize=(FIGURE_X, FIGURE_Y))\n",
    "    librosa.display.specshow(mfcc, x_axis='time', y_axis='frames')\n",
    "    plt.colorbar()\n",
    "    plt.title('MFCC')\n",
    "    plt.tight_layout()\n",
    "    plt.show()\n",
    "\n",
    "def plotSpectrogram(x, sr):\n",
    "    plt.figure(figsize=(FIGURE_X, FIGURE_Y))\n",
    "    librosa.display.specshow(librosa.amplitude_to_db(librosa.stft(x), ref=np.max), y_axis='log', x_axis='time')\n",
    "    plt.colorbar(format='%+2.0f dB')\n",
    "    plt.title('Power spectrogram')\n",
    "    plt.tight_layout()\n",
    "    plt.show()\n",
    "\n",
    "def plotOriginalSignal(x):\n",
    "    librosa.load(x)\n",
    "    plt.figure(figsize=(FIGURE_X, FIGURE_Y))\n",
    "    librosa.display.waveplot(x)\n",
    "    plt.title('Original Signal')\n",
    "    plt.tight_layout()\n",
    "    plt.show()\n",
    "    \n",
    "def showSound(audio,sr=22050,title=\"Sinal de audio\",xlabel=\"tempo (s)\",ylabel=\"Amplitude\"):\n",
    "    N = len(audio)\n",
    "    T = N/sr\n",
    "    t = np.linspace(0,T,N)\n",
    "    plt.figure(figsize=(7, 2.5))\n",
    "    plt.plot(t,audio)\n",
    "    plt.title(title)\n",
    "    plt.xlabel(xlabel);   plt.ylabel(ylabel);\n",
    "    plt.grid(which='both')\n",
    "    plt.show()\n",
    "    ipd.display(ipd.Audio(audio, rate=sr, autoplay=False))\n",
    "\n",
    "def getDelta(mfcc):\n",
    "    return librosa.feature.delta(mfcc)\n",
    "\n",
    "def getDeltaDelta(mfcc):\n",
    "    return librosa.feature.delta(mfcc, order=2)\n",
    "\n",
    "def displayMfccAndDeltas(mfcc, delta, deltaDelta):\n",
    "    plt.figure(figsize=(FIGURE_X, FIGURE_Y))\n",
    "    plt.subplot(3, 1, 1)\n",
    "    librosa.display.specshow(mfcc, x_axis='time', y_axis='frames')\n",
    "    plt.colorbar(format=\"%+.1f\")\n",
    "    plt.title('MFCC')\n",
    "    plt.subplot(3, 1, 2)\n",
    "    librosa.display.specshow(delta, x_axis='time', y_axis='frames')\n",
    "    plt.colorbar(format=\"%+.1f\")\n",
    "    plt.title('MFCC Delta')\n",
    "    plt.subplot(3, 1, 3)\n",
    "    librosa.display.specshow(deltaDelta, x_axis='time', y_axis='frames')\n",
    "    plt.colorbar(format=\"%+.1f\")\n",
    "    plt.title('MFCC Delta Delta')\n",
    "    plt.tight_layout()\n",
    "    plt.show()\n",
    "\n",
    "def processAudio(x, sr):\n",
    "    mfcc = makeMFCC(x, sr)\n",
    "    delta = getDelta(mfcc)\n",
    "    deltaDelta = getDeltaDelta(mfcc)\n",
    "    displayMfccAndDeltas(mfcc, delta, deltaDelta)\n",
    "\n",
    "def startProcess(path):\n",
    "    x, sr = librosa.load(path)\n",
    "    showSound(x, sr, title=\"\")\n",
    "    processAudio(x, sr)\n",
    "    \n",
    "def reverseMFCC(coefficients):\n",
    "    return librosa.feature.inverse.mfcc_to_audio(coefficients)\n",
    "    \n",
    "def reconstruct(path):\n",
    "    x, sr = librosa.load(path)\n",
    "    showSound(x, sr, title=\"Sinal Original\")\n",
    "    mfcc = makeMFCC(x, sr)\n",
    "    xr   = reverseMFCC(mfcc)\n",
    "    showSound(xr, sr, title=\"Sinal Reconstruído\")"
   ]
  },
  {
   "cell_type": "markdown",
   "metadata": {},
   "source": [
    "## Cálculo dos MFCCs "
   ]
  },
  {
   "cell_type": "markdown",
   "metadata": {},
   "source": [
    "### Carregar a lista de arquivos"
   ]
  },
  {
   "cell_type": "code",
   "execution_count": 4,
   "metadata": {
    "ExecuteTime": {
     "end_time": "2021-12-03T18:42:50.757625Z",
     "start_time": "2021-12-03T18:42:50.743625Z"
    }
   },
   "outputs": [],
   "source": [
    "fileList = []\n",
    "pasta = \"./audio\"\n",
    "for diretorio, subpastas, arquivos in os.walk(pasta):\n",
    "    for arquivo in arquivos:\n",
    "        fileList.append(( arquivo.rsplit( \".\", 1 )[ 0 ] , pasta+\"/\"+arquivo))\n",
    "# print(files)"
   ]
  },
  {
   "cell_type": "markdown",
   "metadata": {},
   "source": [
    "### Exibição dos expectogramas\n",
    "\n",
    "Selecione na caixa de diálogo abaixo o arquivo de áudio que deseja analisar: "
   ]
  },
  {
   "cell_type": "code",
   "execution_count": 5,
   "metadata": {
    "ExecuteTime": {
     "end_time": "2021-12-03T18:42:52.671781Z",
     "start_time": "2021-12-03T18:42:50.758625Z"
    }
   },
   "outputs": [
    {
     "data": {
      "application/vnd.jupyter.widget-view+json": {
       "model_id": "8d1d0652191f4ce488095148c2e28082",
       "version_major": 2,
       "version_minor": 0
      },
      "text/plain": [
       "interactive(children=(Dropdown(description='Select a file:', options=(('acusticguitar', './audio/acusticguitar…"
      ]
     },
     "metadata": {},
     "output_type": "display_data"
    }
   ],
   "source": [
    "interact(startProcess, path=widgets.Dropdown(options = fileList, \n",
    "                                             description='Select a file:', #value=None,\n",
    "                                             disabled=False), continuous_update=False);\n"
   ]
  },
  {
   "cell_type": "markdown",
   "metadata": {},
   "source": [
    "\n",
    "## Reconstrução do **sinal** à partir dos coeficientes\n",
    "---\n",
    "`Obs.: Áudios longos podem demorar um certo tempo para serem reconstruidos `"
   ]
  },
  {
   "cell_type": "code",
   "execution_count": null,
   "metadata": {
    "ExecuteTime": {
     "end_time": "2021-12-03T18:42:55.451003Z",
     "start_time": "2021-12-03T18:42:52.673781Z"
    }
   },
   "outputs": [
    {
     "data": {
      "application/vnd.jupyter.widget-view+json": {
       "model_id": "98cbc05e1c3241d4bf952833c4f2d91c",
       "version_major": 2,
       "version_minor": 0
      },
      "text/plain": [
       "interactive(children=(Dropdown(description='Select a file:', options=(('acusticguitar', './audio/acusticguitar…"
      ]
     },
     "metadata": {},
     "output_type": "display_data"
    }
   ],
   "source": [
    "interact(reconstruct, path=widgets.Dropdown(options= fileList, \n",
    "                                            description='Select a file:', #value=None,\n",
    "                                            disabled=False), continuous_update=False);"
   ]
  }
 ],
 "metadata": {
  "interpreter": {
   "hash": "b3ba2566441a7c06988d0923437866b63cedc61552a5af99d1f4fb67d367b25f"
  },
  "kernelspec": {
   "display_name": "Python 3",
   "language": "python",
   "name": "python3"
  },
  "language_info": {
   "codemirror_mode": {
    "name": "ipython",
    "version": 3
   },
   "file_extension": ".py",
   "mimetype": "text/x-python",
   "name": "python",
   "nbconvert_exporter": "python",
   "pygments_lexer": "ipython3",
   "version": "3.8.8"
  },
  "varInspector": {
   "cols": {
    "lenName": 16,
    "lenType": 16,
    "lenVar": 40
   },
   "kernels_config": {
    "python": {
     "delete_cmd_postfix": "",
     "delete_cmd_prefix": "del ",
     "library": "var_list.py",
     "varRefreshCmd": "print(var_dic_list())"
    },
    "r": {
     "delete_cmd_postfix": ") ",
     "delete_cmd_prefix": "rm(",
     "library": "var_list.r",
     "varRefreshCmd": "cat(var_dic_list()) "
    }
   },
   "types_to_exclude": [
    "module",
    "function",
    "builtin_function_or_method",
    "instance",
    "_Feature"
   ],
   "window_display": false
  }
 },
 "nbformat": 4,
 "nbformat_minor": 2
}

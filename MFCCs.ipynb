{
 "cells": [
  {
   "cell_type": "markdown",
   "metadata": {},
   "source": [
    "# Alguns Imports"
   ]
  },
  {
   "cell_type": "code",
   "execution_count": 1,
   "metadata": {
    "ExecuteTime": {
     "end_time": "2021-12-02T17:54:55.686498Z",
     "start_time": "2021-12-02T17:54:52.934279Z"
    }
   },
   "outputs": [],
   "source": [
    "import numpy as np, scipy as sp\n",
    "import matplotlib.pyplot as plt, IPython.display as ipd\n",
    "import librosa, librosa.display\n",
    "import ipywidgets as widgets\n",
    "import os\n",
    "from scipy import signal\n",
    "from scipy.fft import fft\n",
    "from ipywidgets import interact, interactive, fixed, interact_manual\n",
    "\n",
    "# %matplotlib widget\n",
    "%matplotlib inline"
   ]
  },
  {
   "cell_type": "markdown",
   "metadata": {},
   "source": [
    "# Algumas Funções"
   ]
  },
  {
   "cell_type": "code",
   "execution_count": 2,
   "metadata": {
    "ExecuteTime": {
     "end_time": "2021-12-02T17:54:55.782506Z",
     "start_time": "2021-12-02T17:54:55.688500Z"
    }
   },
   "outputs": [],
   "source": [
    "FIGURE_X=15\n",
    "FIGURE_Y=10\n",
    "N_MFCC  =13\n",
    "\n",
    "def makeMFCC(x, sr):\n",
    "    return librosa.feature.mfcc(x, n_mfcc=N_MFCC, sr=sr)\n",
    "\n",
    "def reverseMFCC(coefficients, sr):\n",
    "    audio = librosa.feature.inverse.mfcc_to_audio(coefficients, n_mels=N_MFCC)\n",
    "    ipd.display(ipd.Audio(audio, rate=22050, autoplay=False))\n",
    "    plt.plot(audio)\n",
    "    return audio\n",
    "\n",
    "def plotMFCC(mfcc):\n",
    "    plt.figure(figsize=(FIGURE_X, FIGURE_Y))\n",
    "    librosa.display.specshow(mfcc, x_axis='time', y_axis='mel')\n",
    "    plt.colorbar()\n",
    "    plt.title('MFCC')\n",
    "    plt.tight_layout()\n",
    "    plt.show()\n",
    "\n",
    "def plotSpectrogram(x, sr):\n",
    "    plt.figure(figsize=(FIGURE_X, FIGURE_Y))\n",
    "    librosa.display.specshow(librosa.amplitude_to_db(librosa.stft(x), ref=np.max), y_axis='log', x_axis='time')\n",
    "    plt.colorbar(format='%+2.0f dB')\n",
    "    plt.title('Power spectrogram')\n",
    "    plt.tight_layout()\n",
    "    plt.show()\n",
    "\n",
    "def plotOriginalSignal(x):\n",
    "    librosa.load(x)\n",
    "    plt.figure(figsize=(FIGURE_X, FIGURE_Y))\n",
    "    librosa.display.waveplot(x)\n",
    "    plt.title('Original Signal')\n",
    "    plt.tight_layout()\n",
    "    plt.show()\n",
    "\n",
    "def getDelta(mfcc):\n",
    "    return librosa.feature.delta(mfcc)\n",
    "\n",
    "def getDeltaDelta(mfcc):\n",
    "    return librosa.feature.delta(mfcc, order=2)\n",
    "\n",
    "def displayMfccAndDeltas(mfcc, delta, deltaDelta):\n",
    "    plt.figure(figsize=(FIGURE_X, FIGURE_Y))\n",
    "    plt.subplot(3, 1, 1)\n",
    "    librosa.display.specshow(mfcc, x_axis='time')# , y_axis='mel')\n",
    "    plt.colorbar(format=\"%+.1f\")\n",
    "    plt.title('MFCC')\n",
    "    plt.subplot(3, 1, 2)\n",
    "    librosa.display.specshow(delta, x_axis='time')# , y_axis='mel')\n",
    "    plt.colorbar(format=\"%+.1f\")\n",
    "    plt.title('MFCC Delta')\n",
    "    plt.subplot(3, 1, 3)\n",
    "    librosa.display.specshow(deltaDelta, x_axis='time')#, y_axis='mel')\n",
    "    plt.colorbar(format=\"%+.1f\")\n",
    "    plt.title('MFCC Delta Delta')\n",
    "    plt.tight_layout()\n",
    "    plt.show()\n",
    "\n",
    "def processAudio(x, sr):\n",
    "    mfcc = makeMFCC(x, sr)\n",
    "    delta = getDelta(mfcc)\n",
    "    deltaDelta = getDeltaDelta(mfcc)\n",
    "    displayMfccAndDeltas(mfcc, delta, deltaDelta)\n",
    "\n",
    "def reconstruct(path):\n",
    "    x, sr = librosa.load(path)\n",
    "    plt.plot(x)\n",
    "    plt.xlim()\n",
    "\n",
    "    mfcc = makeMFCC(x, sr)\n",
    "    reverseMFCC(mfcc, sr)\n",
    "\n",
    "def startProcess(path):\n",
    "    x, sr = librosa.load(path)\n",
    "    ipd.display(ipd.Audio(path, autoplay=False))\n",
    "    # plotOriginalSignal(path)\n",
    "    processAudio(x, sr)"
   ]
  },
  {
   "cell_type": "markdown",
   "metadata": {},
   "source": [
    "## Carrega a lista de arquivos"
   ]
  },
  {
   "cell_type": "code",
   "execution_count": 3,
   "metadata": {
    "ExecuteTime": {
     "end_time": "2021-12-02T17:54:55.798507Z",
     "start_time": "2021-12-02T17:54:55.786509Z"
    }
   },
   "outputs": [],
   "source": [
    "fileList = []\n",
    "pasta = './audio'\n",
    "for diretorio, subpastas, arquivos in os.walk(pasta):\n",
    "    for arquivo in arquivos:\n",
    "        fileList.append(( arquivo.rsplit( \".\", 1 )[ 0 ] , pasta+\"/\"+arquivo))\n",
    "# print(files)"
   ]
  },
  {
   "cell_type": "code",
   "execution_count": 4,
   "metadata": {
    "ExecuteTime": {
     "end_time": "2021-12-02T17:54:58.914759Z",
     "start_time": "2021-12-02T17:54:55.801509Z"
    }
   },
   "outputs": [
    {
     "data": {
      "application/vnd.jupyter.widget-view+json": {
       "model_id": "af2b5386bef74ef5a7441b93797cd450",
       "version_major": 2,
       "version_minor": 0
      },
      "text/plain": [
       "interactive(children=(Dropdown(description='Select a file:', options=(('alphabet', './audio/alphabet.wav'), ('…"
      ]
     },
     "metadata": {},
     "output_type": "display_data"
    }
   ],
   "source": [
    "interact(startProcess, path=widgets.Dropdown(options= fileList, \n",
    "                                             description='Select a file:', \n",
    "                                             disabled=False), continuous_update=False);\n"
   ]
  },
  {
   "cell_type": "markdown",
   "metadata": {},
   "source": [
    "\n",
    "# Reconstrução do **sinal** à partir dos coeficientes\n",
    "---\n",
    "`Obs.: Audios muito longos (mais de 10 s) levarão muito tempo para serem reconstruidos `"
   ]
  },
  {
   "cell_type": "code",
   "execution_count": 5,
   "metadata": {
    "ExecuteTime": {
     "end_time": "2021-12-02T17:54:59.933842Z",
     "start_time": "2021-12-02T17:54:58.915760Z"
    }
   },
   "outputs": [
    {
     "data": {
      "application/vnd.jupyter.widget-view+json": {
       "model_id": "3286b2a2109c43d38b329a312af5ddbe",
       "version_major": 2,
       "version_minor": 0
      },
      "text/plain": [
       "interactive(children=(Dropdown(description='Select a file:', options=(('alphabet', './audio/alphabet.wav'), ('…"
      ]
     },
     "metadata": {},
     "output_type": "display_data"
    }
   ],
   "source": [
    "interact(reconstruct, path=widgets.Dropdown(options= fileList, \n",
    "                                            description='Select a file:', value=None,\n",
    "                                            disabled=False), continuous_update=False);"
   ]
  }
 ],
 "metadata": {
  "interpreter": {
   "hash": "b3ba2566441a7c06988d0923437866b63cedc61552a5af99d1f4fb67d367b25f"
  },
  "kernelspec": {
   "display_name": "Python 3",
   "language": "python",
   "name": "python3"
  },
  "language_info": {
   "codemirror_mode": {
    "name": "ipython",
    "version": 3
   },
   "file_extension": ".py",
   "mimetype": "text/x-python",
   "name": "python",
   "nbconvert_exporter": "python",
   "pygments_lexer": "ipython3",
   "version": "3.8.8"
  },
  "varInspector": {
   "cols": {
    "lenName": 16,
    "lenType": 16,
    "lenVar": 40
   },
   "kernels_config": {
    "python": {
     "delete_cmd_postfix": "",
     "delete_cmd_prefix": "del ",
     "library": "var_list.py",
     "varRefreshCmd": "print(var_dic_list())"
    },
    "r": {
     "delete_cmd_postfix": ") ",
     "delete_cmd_prefix": "rm(",
     "library": "var_list.r",
     "varRefreshCmd": "cat(var_dic_list()) "
    }
   },
   "types_to_exclude": [
    "module",
    "function",
    "builtin_function_or_method",
    "instance",
    "_Feature"
   ],
   "window_display": false
  }
 },
 "nbformat": 4,
 "nbformat_minor": 2
}

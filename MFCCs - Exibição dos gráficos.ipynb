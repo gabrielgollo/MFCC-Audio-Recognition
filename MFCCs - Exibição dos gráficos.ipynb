{
 "cells": [
  {
   "cell_type": "markdown",
   "metadata": {},
   "source": [
    "# MFCC - Pré-Processamento de Sinais de Áudio\n",
    "\n",
    "Neste notebook é possível selecionar qualquer arquivo de áudio (em formato .wav) e gerar a MFCC deste sinal.\n",
    "\n",
    "Utilizando a biblioteca Librosa são exibidos os gráficos da MFCC, seus Deltas, o espectrograma do sinal e uma reconstrução a partir dos coeficientes da MFCC. Alguns arquivos de áudio já estão inclusos, porém você pode utilizar um arquivo próprio, basta colocá-lo na pasta \"audio\", que está localizada no mesmo diretório deste notebook.\n",
    "\n",
    "Caso deseje pular para alguma parte em específico basta clicar nos links abaixo:\n",
    "\n",
    "[Bibliotecas](#Importando-as-Bibliotecas) | [Funções Utilizadas](#Funções) | [Gráficos das MFCCs](#Exibição-dos-expectogramas) | [Reconstrução do Sinal](#Reconstrução-do-sinal-à-partir-dos-coeficientes) "
   ]
  },
  {
   "cell_type": "markdown",
   "metadata": {},
   "source": [
    "# Participantes do projeto\n",
    "- Gabriel Santos Gollo do Amaral\n",
    "- Marcial Faria Vasconcelos"
   ]
  },
  {
   "cell_type": "markdown",
   "metadata": {},
   "source": [
    "## Instalação de Bibliotecas\n",
    "\n",
    "Descomente as linhas abaixo caso seja necessário instalar alguma das bibliotecas."
   ]
  },
  {
   "cell_type": "code",
   "execution_count": 1,
   "metadata": {
    "ExecuteTime": {
     "end_time": "2021-12-08T12:53:02.182659Z",
     "start_time": "2021-12-08T12:53:02.166657Z"
    }
   },
   "outputs": [],
   "source": [
    "# !pip install numpy\n",
    "# !pip install control\n",
    "# !pip install scipy\n",
    "# !pip install IPython\n",
    "# !pip install librosa"
   ]
  },
  {
   "cell_type": "markdown",
   "metadata": {},
   "source": [
    "## Importando as Bibliotecas\n",
    "\n",
    "Foram utilizados recursos das seguintes bibliotecas:\n",
    "\n",
    "- [numpy](https://numpy.org/doc/stable/user/whatisnumpy.html)\n",
    "- [scipy](https://docs.scipy.org/doc/scipy/reference/)\n",
    "- [librosa](https://librosa.org/doc/latest/index.html)\n",
    "- [matplotlib](https://matplotlib.org/stable/api/index)\n",
    "- [ipywidgets](https://ipywidgets.readthedocs.io/en/latest/)\n",
    "- [os](https://docs.python.org/3/library/os.html)\n",
    "- [IPython](https://ipython.org/documentation.html)"
   ]
  },
  {
   "cell_type": "code",
   "execution_count": 2,
   "metadata": {
    "ExecuteTime": {
     "end_time": "2021-12-08T12:53:04.655694Z",
     "start_time": "2021-12-08T12:53:02.183658Z"
    }
   },
   "outputs": [],
   "source": [
    "import numpy as np, scipy as sp\n",
    "import matplotlib.pyplot as plt, IPython.display as ipd\n",
    "import librosa, librosa.display\n",
    "import ipywidgets as widgets\n",
    "import os\n",
    "import warnings\n",
    "warnings.filterwarnings('ignore')\n",
    "from ipywidgets import interact, interactive, fixed, interact_manual\n",
    "\n",
    "# %matplotlib widget\n",
    "%matplotlib inline"
   ]
  },
  {
   "cell_type": "markdown",
   "metadata": {},
   "source": [
    "## Funções\n",
    "\n",
    "Nesta célula foram definidas as funções utilizadas para construção dos MFCCs e dos gráficos."
   ]
  },
  {
   "cell_type": "code",
   "execution_count": 3,
   "metadata": {
    "ExecuteTime": {
     "end_time": "2021-12-08T12:53:04.734702Z",
     "start_time": "2021-12-08T12:53:04.657696Z"
    }
   },
   "outputs": [],
   "source": [
    "FIGURE_X = 15\n",
    "FIGURE_Y = 10\n",
    "N_MFCC   = 13\n",
    "\n",
    "def makeMFCC(x, sr):\n",
    "    return librosa.feature.mfcc(x, n_mfcc=N_MFCC, sr=sr)\n",
    "\n",
    "def plotMFCC(mfcc):\n",
    "    plt.figure(figsize=(FIGURE_X, FIGURE_Y))\n",
    "    librosa.display.specshow(mfcc, x_axis='time', y_axis='frames')\n",
    "    plt.colorbar()\n",
    "    plt.title('MFCC')\n",
    "    plt.tight_layout()\n",
    "    plt.show()\n",
    "\n",
    "def plotSpectrogram(x, sr):\n",
    "    plt.figure(figsize=(FIGURE_X, FIGURE_Y))\n",
    "    librosa.display.specshow(librosa.amplitude_to_db(librosa.stft(x), ref=np.max), y_axis='log', x_axis='time')\n",
    "    plt.colorbar(format='%+2.0f dB')\n",
    "    plt.title('Power spectrogram')\n",
    "    plt.tight_layout()\n",
    "    plt.show()\n",
    "\n",
    "def plotOriginalSignal(x):\n",
    "    librosa.load(x)\n",
    "    plt.figure(figsize=(FIGURE_X, FIGURE_Y))\n",
    "    librosa.display.waveplot(x)\n",
    "    plt.title('Original Signal')\n",
    "    plt.tight_layout()\n",
    "    plt.show()\n",
    "    \n",
    "def showSound(audio,sr=22050,title=\"Sinal de audio\",xlabel=\"tempo (s)\",ylabel=\"Amplitude\"):\n",
    "    N = len(audio)\n",
    "    T = N/sr\n",
    "    t = np.linspace(0,T,N)\n",
    "    plt.figure(figsize=(7, 2.5))\n",
    "    plt.plot(t,audio)\n",
    "    plt.title(title)\n",
    "    plt.xlabel(xlabel);   plt.ylabel(ylabel);\n",
    "    plt.grid(which='both')\n",
    "    plt.show()\n",
    "    ipd.display(ipd.Audio(audio, rate=sr, autoplay=False))\n",
    "\n",
    "def getDelta(mfcc):\n",
    "    return librosa.feature.delta(mfcc)\n",
    "\n",
    "def getDeltaDelta(mfcc):\n",
    "    return librosa.feature.delta(mfcc, order=2)\n",
    "\n",
    "def displayMfccAndDeltas(mfcc, delta, deltaDelta):\n",
    "    plt.figure(figsize=(FIGURE_X, FIGURE_Y))\n",
    "    plt.subplot(3, 1, 1)\n",
    "    librosa.display.specshow(mfcc, x_axis='time', y_axis='frames')\n",
    "    plt.colorbar(format=\"%+.1f\")\n",
    "    plt.title('MFCC', fontsize=18)\n",
    "    plt.xlabel('tempo (s)', fontsize=15);plt.ylabel('Coeficientes', fontsize=15);\n",
    "    plt.subplot(3, 1, 2)\n",
    "    librosa.display.specshow(delta, x_axis='time', y_axis='frames')\n",
    "    plt.colorbar(format=\"%+.1f\")\n",
    "    plt.title('MFCC Delta', fontsize=18)\n",
    "    plt.xlabel('tempo (s)', fontsize=15);plt.ylabel('Coeficientes', fontsize=15);\n",
    "    plt.subplot(3, 1, 3)\n",
    "    librosa.display.specshow(deltaDelta, x_axis='time', y_axis='frames')\n",
    "    plt.colorbar(format=\"%+.1f\")\n",
    "    plt.title('MFCC Delta Delta', fontsize=18)\n",
    "    plt.xlabel('tempo (s)', fontsize=15);plt.ylabel('Coeficientes', fontsize=15);\n",
    "    plt.tight_layout()\n",
    "    plt.show()\n",
    "\n",
    "def plotFFT(x, sr):\n",
    "    plt.figure(figsize=(FIGURE_X, FIGURE_Y/2))\n",
    "    librosa.display.specshow(librosa.amplitude_to_db(librosa.stft(x), ref=np.max), y_axis='log', x_axis='time')\n",
    "    plt.colorbar(format='%+2.0f dB')\n",
    "    plt.title('Spectrogram')\n",
    "    plt.tight_layout()\n",
    "    plt.show()\n",
    "\n",
    "def processAudio(x, sr):\n",
    "    mfcc = makeMFCC(x, sr)\n",
    "    delta = getDelta(mfcc)\n",
    "    deltaDelta = getDeltaDelta(mfcc)\n",
    "    plotFFT(x, sr)\n",
    "    print(\"MFCC:\", mfcc.shape)\n",
    "    displayMfccAndDeltas(mfcc, delta, deltaDelta)\n",
    "\n",
    "def startProcess(path):\n",
    "    x, sr = librosa.load(path)\n",
    "    showSound(x, sr, title=\"\")\n",
    "    processAudio(x, sr)\n",
    "    \n",
    "def reverseMFCC(coefficients):\n",
    "    return librosa.feature.inverse.mfcc_to_audio(coefficients)\n",
    "    \n",
    "def reconstruct(path):\n",
    "    x, sr = librosa.load(path)\n",
    "    showSound(x, sr, title=\"Sinal Original\")\n",
    "    mfcc = makeMFCC(x, sr)\n",
    "    xr   = reverseMFCC(mfcc)\n",
    "    showSound(xr, sr, title=\"Sinal Reconstruído\")"
   ]
  },
  {
   "cell_type": "markdown",
   "metadata": {},
   "source": [
    "## Cálculo dos MFCCs "
   ]
  },
  {
   "cell_type": "markdown",
   "metadata": {},
   "source": [
    "### Carregar a lista de arquivos"
   ]
  },
  {
   "cell_type": "code",
   "execution_count": 4,
   "metadata": {
    "ExecuteTime": {
     "end_time": "2021-12-08T12:53:04.750701Z",
     "start_time": "2021-12-08T12:53:04.736703Z"
    }
   },
   "outputs": [],
   "source": [
    "fileList = []\n",
    "pasta = \"./audio\"\n",
    "for diretorio, subpastas, arquivos in os.walk(pasta):\n",
    "    for arquivo in arquivos:\n",
    "        fileList.append(( arquivo.rsplit( \".\", 1 )[ 0 ] , pasta+\"/\"+arquivo))\n",
    "# print(files)"
   ]
  },
  {
   "cell_type": "markdown",
   "metadata": {},
   "source": [
    "### Exibição dos expectogramas\n",
    "\n",
    "Selecione na caixa de diálogo abaixo o arquivo de áudio que deseja analisar: "
   ]
  },
  {
   "cell_type": "code",
   "execution_count": 5,
   "metadata": {
    "ExecuteTime": {
     "end_time": "2021-12-08T12:53:07.624822Z",
     "start_time": "2021-12-08T12:53:04.751702Z"
    },
    "scrolled": false
   },
   "outputs": [
    {
     "data": {
      "application/vnd.jupyter.widget-view+json": {
       "model_id": "80ded644256b49208225e085bd87d1f5",
       "version_major": 2,
       "version_minor": 0
      },
      "text/plain": [
       "interactive(children=(Dropdown(description='Select a file:', options=(('acusticguitar', './audio/acusticguitar…"
      ]
     },
     "metadata": {},
     "output_type": "display_data"
    }
   ],
   "source": [
    "interact(startProcess, path=widgets.Dropdown(options = fileList, \n",
    "                                             description='Select a file:', #value=None,\n",
    "                                             disabled=False), continuous_update=False);\n"
   ]
  },
  {
   "cell_type": "markdown",
   "metadata": {},
   "source": [
    "\n",
    "## Reconstrução do **sinal** à partir dos coeficientes\n",
    "---\n",
    "`Obs.: Áudios longos podem demorar um certo tempo para serem reconstruidos `"
   ]
  },
  {
   "cell_type": "code",
   "execution_count": 6,
   "metadata": {
    "ExecuteTime": {
     "end_time": "2021-12-08T12:53:10.903133Z",
     "start_time": "2021-12-08T12:53:07.626823Z"
    }
   },
   "outputs": [
    {
     "data": {
      "application/vnd.jupyter.widget-view+json": {
       "model_id": "e7da2b063937462994a9302535874e57",
       "version_major": 2,
       "version_minor": 0
      },
      "text/plain": [
       "interactive(children=(Dropdown(description='Select a file:', options=(('acusticguitar', './audio/acusticguitar…"
      ]
     },
     "metadata": {},
     "output_type": "display_data"
    }
   ],
   "source": [
    "interact(reconstruct, path=widgets.Dropdown(options= fileList, \n",
    "                                            description='Select a file:', #value=None,\n",
    "                                            disabled=False), continuous_update=False);"
   ]
  }
 ],
 "metadata": {
  "interpreter": {
   "hash": "b3ba2566441a7c06988d0923437866b63cedc61552a5af99d1f4fb67d367b25f"
  },
  "kernelspec": {
   "display_name": "Python 3",
   "language": "python",
   "name": "python3"
  },
  "language_info": {
   "codemirror_mode": {
    "name": "ipython",
    "version": 3
   },
   "file_extension": ".py",
   "mimetype": "text/x-python",
   "name": "python",
   "nbconvert_exporter": "python",
   "pygments_lexer": "ipython3",
   "version": "3.8.8"
  },
  "varInspector": {
   "cols": {
    "lenName": 16,
    "lenType": 16,
    "lenVar": 40
   },
   "kernels_config": {
    "python": {
     "delete_cmd_postfix": "",
     "delete_cmd_prefix": "del ",
     "library": "var_list.py",
     "varRefreshCmd": "print(var_dic_list())"
    },
    "r": {
     "delete_cmd_postfix": ") ",
     "delete_cmd_prefix": "rm(",
     "library": "var_list.r",
     "varRefreshCmd": "cat(var_dic_list()) "
    }
   },
   "types_to_exclude": [
    "module",
    "function",
    "builtin_function_or_method",
    "instance",
    "_Feature"
   ],
   "window_display": false
  }
 },
 "nbformat": 4,
 "nbformat_minor": 2
}

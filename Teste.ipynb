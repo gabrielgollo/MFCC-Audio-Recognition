{
 "cells": [
  {
   "cell_type": "markdown",
   "metadata": {},
   "source": [
    "# Alguns Imports"
   ]
  },
  {
   "cell_type": "code",
   "execution_count": 49,
   "metadata": {
    "ExecuteTime": {
     "end_time": "2021-12-01T03:30:39.684150Z",
     "start_time": "2021-12-01T03:30:37.184949Z"
    }
   },
   "outputs": [],
   "source": [
    "import numpy as np, scipy as sp\n",
    "import matplotlib.pyplot as plt, IPython.display as ipd\n",
    "import librosa, librosa.display\n",
    "from scipy import signal\n",
    "from scipy.fft import fft\n",
    "import ipywidgets as widgets\n",
    "from ipywidgets import interact, interactive, fixed, interact_manual\n",
    "\n",
    "# %matplotlib widget\n",
    "%matplotlib inline"
   ]
  },
  {
   "cell_type": "markdown",
   "metadata": {},
   "source": [
    "# Algumas Funções"
   ]
  },
  {
   "cell_type": "code",
   "execution_count": 50,
   "metadata": {
    "ExecuteTime": {
     "end_time": "2021-12-01T03:30:39.764156Z",
     "start_time": "2021-12-01T03:30:39.686152Z"
    }
   },
   "outputs": [],
   "source": [
    "FIGURE_X=15\n",
    "FIGURE_Y=10\n",
    "\n",
    "def makeMFCC(x, sr):\n",
    "    return librosa.feature.mfcc(x, n_mfcc=13, sr=sr)\n",
    "\n",
    "def plotMFCC(mfcc):\n",
    "    plt.figure(figsize=(FIGURE_X, FIGURE_Y))\n",
    "    librosa.display.specshow(mfcc, x_axis='time', y_axis='mel')\n",
    "    plt.colorbar()\n",
    "    plt.title('MFCC')\n",
    "    plt.tight_layout()\n",
    "    plt.show()\n",
    "\n",
    "def plotSpectrogram(x, sr):\n",
    "    plt.figure(figsize=(FIGURE_X, FIGURE_Y))\n",
    "    librosa.display.specshow(librosa.amplitude_to_db(librosa.stft(x), ref=np.max), y_axis='log', x_axis='time')\n",
    "    plt.colorbar(format='%+2.0f dB')\n",
    "    plt.title('Power spectrogram')\n",
    "    plt.tight_layout()\n",
    "    plt.show()\n",
    "\n",
    "def plotOriginalSignal(x):\n",
    "    librosa.load(x)\n",
    "    plt.figure(figsize=(FIGURE_X, FIGURE_Y))\n",
    "    librosa.display.waveplot(x)\n",
    "    plt.title('Original Signal')\n",
    "    plt.tight_layout()\n",
    "    plt.show()\n",
    "\n",
    "def getDelta(mfcc):\n",
    "    return librosa.feature.delta(mfcc)\n",
    "\n",
    "def getDeltaDelta(mfcc):\n",
    "    return librosa.feature.delta(mfcc, order=2)\n",
    "\n",
    "def displayMfccAndDeltas(mfcc, delta, deltaDelta):\n",
    "    plt.figure(figsize=(FIGURE_X, FIGURE_Y))\n",
    "    plt.subplot(3, 1, 1)\n",
    "    librosa.display.specshow(mfcc, x_axis='time')# , y_axis='mel')\n",
    "    plt.colorbar()\n",
    "    plt.title('MFCC')\n",
    "    plt.subplot(3, 1, 2)\n",
    "    librosa.display.specshow(delta, x_axis='time')# , y_axis='mel')\n",
    "    plt.colorbar()\n",
    "    plt.title('MFCC Delta')\n",
    "    plt.subplot(3, 1, 3)\n",
    "    librosa.display.specshow(deltaDelta, x_axis='time')#, y_axis='mel')\n",
    "    plt.colorbar()\n",
    "    plt.title('MFCC Delta Delta')\n",
    "    plt.tight_layout()\n",
    "    plt.show()\n",
    "\n",
    "def processAudio(x, sr):\n",
    "    mfcc = makeMFCC(x, sr)\n",
    "    delta = getDelta(mfcc)\n",
    "    deltaDelta = getDeltaDelta(mfcc)\n",
    "    displayMfccAndDeltas(mfcc, delta, deltaDelta)\n",
    "\n",
    "def startProcess(path):\n",
    "    x, sr = librosa.load(path)\n",
    "    ipd.display(ipd.Audio(path, autoplay=False))\n",
    "#     plotOriginalSignal(x)\n",
    "    processAudio(x, sr)"
   ]
  },
  {
   "cell_type": "code",
   "execution_count": 51,
   "metadata": {
    "ExecuteTime": {
     "end_time": "2021-12-01T03:30:42.851406Z",
     "start_time": "2021-12-01T03:30:39.766157Z"
    }
   },
   "outputs": [
    {
     "data": {
      "application/vnd.jupyter.widget-view+json": {
       "model_id": "5fe508743d834af38da74a30c89297eb",
       "version_major": 2,
       "version_minor": 0
      },
      "text/plain": [
       "interactive(children=(Dropdown(description='Select a file:', options=('audio/alphabet.wav', 'audio/alphabet_de…"
      ]
     },
     "metadata": {},
     "output_type": "display_data"
    }
   ],
   "source": [
    "diapasao_file =      \"audio/diapasao.wav\"\n",
    "\n",
    "##startProcess(diapasao_file)\n",
    "\n",
    "lista = [\n",
    "        \"audio/alphabet.wav\", \n",
    "        \"audio/alphabet_deep.wav\", \n",
    "        \"audio/alphabet_high.wav\",\n",
    "        'audio/diapasao.wav', \n",
    "        'audio/flauta.wav', \n",
    "        'audio/cello.wav'\n",
    "        ]\n",
    "\n",
    "interact(startProcess, path=widgets.Dropdown(options= lista, \n",
    "                                                      description='Select a file:', \n",
    "                                                      disabled=False), continuous_update=False);\n"
   ]
  }
 ],
 "metadata": {
  "interpreter": {
   "hash": "b3ba2566441a7c06988d0923437866b63cedc61552a5af99d1f4fb67d367b25f"
  },
  "kernelspec": {
   "display_name": "Python 3",
   "language": "python",
   "name": "python3"
  },
  "language_info": {
   "codemirror_mode": {
    "name": "ipython",
    "version": 3
   },
   "file_extension": ".py",
   "mimetype": "text/x-python",
   "name": "python",
   "nbconvert_exporter": "python",
   "pygments_lexer": "ipython3",
   "version": "3.8.8"
  },
  "varInspector": {
   "cols": {
    "lenName": 16,
    "lenType": 16,
    "lenVar": 40
   },
   "kernels_config": {
    "python": {
     "delete_cmd_postfix": "",
     "delete_cmd_prefix": "del ",
     "library": "var_list.py",
     "varRefreshCmd": "print(var_dic_list())"
    },
    "r": {
     "delete_cmd_postfix": ") ",
     "delete_cmd_prefix": "rm(",
     "library": "var_list.r",
     "varRefreshCmd": "cat(var_dic_list()) "
    }
   },
   "types_to_exclude": [
    "module",
    "function",
    "builtin_function_or_method",
    "instance",
    "_Feature"
   ],
   "window_display": false
  }
 },
 "nbformat": 4,
 "nbformat_minor": 2
}

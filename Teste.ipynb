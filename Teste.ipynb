{
 "cells": [
  {
   "cell_type": "markdown",
   "metadata": {},
   "source": [
    "# Alguns Imports"
   ]
  },
  {
   "cell_type": "code",
   "execution_count": 15,
   "metadata": {},
   "outputs": [],
   "source": [
    "import numpy as np, scipy as sp\n",
    "import matplotlib.pyplot as plt, IPython.display as ipd\n",
    "import librosa, librosa.display\n",
    "from scipy import signal\n",
    "from scipy.fft import fft\n",
    "import ipywidgets as widgets\n",
    "from ipywidgets import interact, interactive, fixed, interact_manual\n",
    "\n",
    "# %matplotlib widget\n",
    "%matplotlib inline"
   ]
  },
  {
   "cell_type": "markdown",
   "metadata": {},
   "source": [
    "# Algumas Funções"
   ]
  },
  {
   "cell_type": "code",
   "execution_count": 16,
   "metadata": {},
   "outputs": [],
   "source": [
    "FIGURE_X=15\n",
    "FIGURE_Y=7.5\n",
    "\n",
    "def makeMFCC(x, sr):\n",
    "    return librosa.feature.mfcc(x, n_mfcc=13, sr=sr)\n",
    "\n",
    "def plotMFCC(mfcc):\n",
    "    plt.figure(figsize=(FIGURE_X, FIGURE_Y))\n",
    "    librosa.display.specshow(mfcc, x_axis='time', y_axis='mel')\n",
    "    plt.colorbar()\n",
    "    plt.title('MFCC')\n",
    "    plt.tight_layout()\n",
    "    plt.show()\n",
    "\n",
    "def plotSpectrogram(x, sr):\n",
    "    plt.figure(figsize=(FIGURE_X, FIGURE_Y))\n",
    "    librosa.display.specshow(librosa.amplitude_to_db(librosa.stft(x), ref=np.max), y_axis='log', x_axis='time')\n",
    "    plt.colorbar(format='%+2.0f dB')\n",
    "    plt.title('Power spectrogram')\n",
    "    plt.tight_layout()\n",
    "    plt.show()\n",
    "\n",
    "def plotOriginalSignal(x):\n",
    "    librosa.load(x)\n",
    "    plt.figure(figsize=(FIGURE_X, FIGURE_Y))\n",
    "    librosa.display.waveplot(x)\n",
    "    plt.title('Original Signal')\n",
    "    plt.tight_layout()\n",
    "    plt.show()\n",
    "\n",
    "def getDelta(mfcc):\n",
    "    return librosa.feature.delta(mfcc)\n",
    "\n",
    "def getDeltaDelta(mfcc):\n",
    "    return librosa.feature.delta(mfcc, order=2)\n",
    "\n",
    "def displayMfccAndDeltas(mfcc, delta, deltaDelta):\n",
    "    plt.figure(figsize=(FIGURE_X, FIGURE_Y))\n",
    "    plt.subplot(3, 1, 1)\n",
    "    librosa.display.specshow(mfcc, x_axis='time', y_axis='mel')\n",
    "    plt.colorbar()\n",
    "    plt.title('MFCC')\n",
    "    plt.subplot(3, 1, 2)\n",
    "    librosa.display.specshow(delta, x_axis='time', y_axis='mel')\n",
    "    plt.colorbar()\n",
    "    plt.title('MFCC Delta')\n",
    "    plt.subplot(3, 1, 3)\n",
    "    librosa.display.specshow(deltaDelta, x_axis='time', y_axis='mel')\n",
    "    plt.colorbar()\n",
    "    plt.title('MFCC Delta Delta')\n",
    "    plt.tight_layout()\n",
    "    plt.show()\n",
    "\n",
    "def processAudio(x, sr):\n",
    "    mfcc = makeMFCC(x, sr)\n",
    "    delta = getDelta(mfcc)\n",
    "    deltaDelta = getDeltaDelta(mfcc)\n",
    "    displayMfccAndDeltas(mfcc, delta, deltaDelta)\n",
    "\n",
    "def startProcess(path):\n",
    "    x, sr = librosa.load(path)\n",
    "    processAudio(x, sr)"
   ]
  },
  {
   "cell_type": "code",
   "execution_count": 23,
   "metadata": {},
   "outputs": [
    {
     "data": {
      "application/vnd.jupyter.widget-view+json": {
       "model_id": "e9d5856294e644ccba9ae14a5e7b70f2",
       "version_major": 2,
       "version_minor": 0
      },
      "text/plain": [
       "interactive(children=(Dropdown(description='Select a file:', options=('audio/diapasao.wav', 'audio/flauta.wav'…"
      ]
     },
     "metadata": {},
     "output_type": "display_data"
    },
    {
     "data": {
      "text/plain": [
       "<function __main__.startProcess(path)>"
      ]
     },
     "execution_count": 23,
     "metadata": {},
     "output_type": "execute_result"
    }
   ],
   "source": [
    "diapasao_file =      \"audio/diapasao.wav\"\n",
    "\n",
    "##startProcess(diapasao_file)\n",
    "\n",
    "\n",
    "interact(startProcess, path=widgets.Dropdown(options=[\"audio/diapasao.wav\", 'audio/flauta.wav', 'audio/cello.wav', 'audio/alphabet.wav', 'audio/alphabet_deep.wav'], description='Select a file:', disabled=False), continuous_update=False)\n"
   ]
  }
 ],
 "metadata": {
  "interpreter": {
   "hash": "b3ba2566441a7c06988d0923437866b63cedc61552a5af99d1f4fb67d367b25f"
  },
  "kernelspec": {
   "display_name": "Python 3.8.8 64-bit ('base': conda)",
   "language": "python",
   "name": "python3"
  },
  "language_info": {
   "codemirror_mode": {
    "name": "ipython",
    "version": 3
   },
   "file_extension": ".py",
   "mimetype": "text/x-python",
   "name": "python",
   "nbconvert_exporter": "python",
   "pygments_lexer": "ipython3",
   "version": "3.8.8"
  },
  "orig_nbformat": 4
 },
 "nbformat": 4,
 "nbformat_minor": 2
}
